{
 "cells": [
  {
   "cell_type": "markdown",
   "id": "83e01e82",
   "metadata": {
    "slideshow": {
     "slide_type": "slide"
    }
   },
   "source": [
    "# Python Software Engineer\n",
    "## Welcome to the course!\n",
    "\n",
    "### Antonio Pisanello | PSE_2024_1112 - Nomades"
   ]
  },
  {
   "cell_type": "markdown",
   "id": "9d99275e",
   "metadata": {
    "slideshow": {
     "slide_type": "slide"
    }
   },
   "source": [
    "# Présentation du cours\n",
    "\n",
    "- semaine 1: Python, les bases\n",
    "- semaine 2: Python, POO\n",
    "- semaine 3: NumPy & Pandas\n",
    "- semaine 4: Flask web (plateform)\n",
    "- semaine 5: Flask REST API"
   ]
  },
  {
   "cell_type": "markdown",
   "id": "f0f9071e",
   "metadata": {
    "slideshow": {
     "slide_type": "slide"
    }
   },
   "source": [
    "# Présentation\n",
    "\n",
    "- Antonio Pisanello\n",
    "- Étudiant\n",
    "- Freelance depuis 2.5ans\n",
    "- Programmation et Sport\n",
    "- [Contactez moi par e-mail](mailto:antonio@apisanello.dev)\n",
    "- À vous :)"
   ]
  },
  {
   "cell_type": "markdown",
   "id": "f094880b",
   "metadata": {
    "slideshow": {
     "slide_type": "slide"
    }
   },
   "source": [
    "# Questions ?"
   ]
  },
  {
   "cell_type": "markdown",
   "id": "9ff523d2",
   "metadata": {},
   "source": [
    "# Bon Cours :)"
   ]
  }
 ],
 "metadata": {
  "celltoolbar": "Slideshow",
  "kernelspec": {
   "display_name": "Python 3 (ipykernel)",
   "language": "python",
   "name": "python3"
  },
  "language_info": {
   "codemirror_mode": {
    "name": "ipython",
    "version": 3
   },
   "file_extension": ".py",
   "mimetype": "text/x-python",
   "name": "python",
   "nbconvert_exporter": "python",
   "pygments_lexer": "ipython3",
   "version": "3.10.14"
  }
 },
 "nbformat": 4,
 "nbformat_minor": 5
}
