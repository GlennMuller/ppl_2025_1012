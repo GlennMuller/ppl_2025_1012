{
 "cells": [
  {
   "cell_type": "markdown",
   "id": "e61700df",
   "metadata": {
    "slideshow": {
     "slide_type": "slide"
    }
   },
   "source": [
    "# Matplotlib\n",
    "\n",
    "Matplotlib est une bibliothèque de visualisation de données en 2D et 3D. Elle permet de créer des graphiques, des histogrammes, des diagrammes de dispersion, etc. avec quelques lignes de code."
   ]
  },
  {
   "cell_type": "markdown",
   "id": "28e6316a",
   "metadata": {
    "slideshow": {
     "slide_type": "slide"
    }
   },
   "source": [
    "## Installation\n",
    "\n",
    "Pour installer Matplotlib, on utilise la commande suivante:\n",
    "\n",
    "```bash\n",
    "conda install matplotlib\n",
    "```"
   ]
  },
  {
   "cell_type": "markdown",
   "id": "9c5f71f6",
   "metadata": {
    "slideshow": {
     "slide_type": "slide"
    }
   },
   "source": [
    "## Importer Matplotlib\n",
    "\n",
    "Pour utiliser Matplotlib, on doit l'importer dans notre programme. On peut importer Matplotlib en utilisant la commande suivante:\n",
    "Par convention, on importe le module `pyplot` de `Matplotlib` en utilisant l'alias `plt`.\n",
    "\n",
    "```python\n",
    "import matplotlib.pyplot as plt\n",
    "```"
   ]
  },
  {
   "cell_type": "markdown",
   "id": "8698f945",
   "metadata": {
    "slideshow": {
     "slide_type": "slide"
    }
   },
   "source": [
    "## Les graphiques\n",
    "\n",
    "Matplotlib permet de créer différents types de graphiques. On peut créer des graphiques en utilisant la fonction `plot()` du module `pyplot`. La syntaxe de la fonction `plot()` est la suivante:\n",
    "\n",
    "```python\n",
    "plt.plot(x, y, format_string, **kwargs)\n",
    "```\n",
    "\n",
    "La fonction `plot()` prend 3 paramètres obligatoires:\n",
    "\n",
    "- `x`: les valeurs de l'axe des abscisses\n",
    "- `y`: les valeurs de l'axe des ordonnées\n",
    "- `format_string`: une chaîne de caractères qui spécifie le format du graphique\n",
    "\n",
    "La fonction `plot()` prend aussi des paramètres optionnels qui permettent de personnaliser le graphique."
   ]
  },
  {
   "cell_type": "code",
   "execution_count": null,
   "id": "d7f30e87",
   "metadata": {
    "scrolled": true,
    "slideshow": {
     "slide_type": "slide"
    }
   },
   "outputs": [],
   "source": [
    "import matplotlib.pyplot as plt\n",
    "\n",
    "x = [1, 2, 3, 4, 5]\n",
    "y = [10, 20, 30, 40, 50]\n",
    "\n",
    "plt.plot(x, y, \"rD--\")\n",
    "plt.show()"
   ]
  },
  {
   "cell_type": "markdown",
   "id": "fbcf04d3",
   "metadata": {
    "slideshow": {
     "slide_type": "fragment"
    }
   },
   "source": [
    "Ici, on a créé un graphique qui représente les valeurs de `x` en fonction des valeurs de `y`. Le paramètre `format_string` est `'ro'` qui spécifie que le graphique doit être de couleur rouge (`r`) et que les points doivent être représentés par des cercles (`o`)."
   ]
  },
  {
   "cell_type": "markdown",
   "id": "13425e92",
   "metadata": {
    "slideshow": {
     "slide_type": "slide"
    }
   },
   "source": [
    "## Les formats\n",
    "\n",
    "La fonction `plot()` prend un paramètre `format_string` qui permet de spécifier le format du graphique. Le paramètre `format_string` est une chaîne de caractères qui peut avoir jusqu'à 3 caractères. Le premier caractère spécifie la couleur du graphique, le deuxième caractère spécifie le type de ligne et le troisième caractère spécifie le type de marqueur."
   ]
  },
  {
   "cell_type": "markdown",
   "id": "a8d900ec",
   "metadata": {
    "slideshow": {
     "slide_type": "slide"
    }
   },
   "source": [
    "### Les couleurs\n",
    "\n",
    "| Caractère | Couleur |\n",
    "| --- | --- |\n",
    "| `b` | Bleu |\n",
    "| `g` | Vert |\n",
    "| `r` | Rouge |\n",
    "| `c` | Cyan |\n",
    "| `m` | Magenta |\n",
    "| `y` | Jaune |\n",
    "| `k` | Noir |\n",
    "| `w` | Blanc |"
   ]
  },
  {
   "cell_type": "markdown",
   "id": "c4687df6",
   "metadata": {
    "slideshow": {
     "slide_type": "slide"
    }
   },
   "source": [
    "### Les types de ligne\n",
    "\n",
    "| Caractère | Description |\n",
    "| --- | --- |\n",
    "| `-` | Ligne pleine |\n",
    "| `--` | Ligne en pointillés |\n",
    "| `-.` | Ligne en tirets |\n",
    "| `:` | Ligne en pointillés |\n",
    "| `o` | Cercle |\n",
    "| `v` | Triangle vers le bas |\n",
    "| `^` | Triangle vers le haut |\n",
    "| `s` | Carré |\n",
    "| `p` | Pentagone |\n",
    "| `*` | Etoile |\n",
    "| `+` | Plus |\n",
    "| `x` | Croix |\n",
    "| `D` | Diamant |"
   ]
  },
  {
   "cell_type": "code",
   "execution_count": null,
   "id": "89e01db3",
   "metadata": {
    "slideshow": {
     "slide_type": "slide"
    }
   },
   "outputs": [],
   "source": [
    "import matplotlib.pyplot as plt\n",
    "\n",
    "x = [1, 2, 3, 4, 5]\n",
    "y = [10, 20, 30, 40, 50]\n",
    "\n",
    "plt.plot(x, y, linestyle=\"dashed\", color=\"r\", marker=\"D\")\n",
    "plt.show()"
   ]
  },
  {
   "cell_type": "markdown",
   "id": "65fe0df7",
   "metadata": {},
   "source": [
    "Ici, on a créé un graphique qui représente les valeurs de `x` en fonction des valeurs de `y`. Le paramètre `format_string` est `'g--'` qui spécifie que le graphique doit être de couleur verte (`g`) et que les points doivent être représentés par des lignes en pointillés (`--`)."
   ]
  },
  {
   "cell_type": "markdown",
   "id": "e33c667b",
   "metadata": {
    "slideshow": {
     "slide_type": "slide"
    }
   },
   "source": [
    "## Les paramètres optionnels\n",
    "\n",
    "La fonction `plot()` prend des paramètres optionnels qui permettent de personnaliser le graphique. Voici les paramètres optionnels les plus utilisés:\n",
    "\n",
    "| Paramètre | Description |\n",
    "| --- | --- |\n",
    "| `alpha` | Définis la transparence du graphique. La valeur doit être entre `0` et `1`. |\n",
    "| `color` | Définis la couleur du graphique. |\n",
    "| `label` | Définis le label du graphique. |\n",
    "| `linewidth` | Définis l'épaisseur de la ligne du graphique. |\n",
    "| `marker` | Définis le type de marqueur du graphique. |\n",
    "| `markersize` | Définis la taille des marqueurs du graphique. |\n",
    "| `linestyle` | Définis le type de ligne du graphique. |\n",
    "| `markeredgecolor` | Définis la couleur des bords des marqueurs du graphique. |\n",
    "| `markeredgewidth` | Définis l'épaisseur des bords des marqueurs du graphique. |\n",
    "| `markerfacecolor` | Définis la couleur du centre des marqueurs du graphique. |\n",
    "| `markerfacecoloralt` | Définis la couleur du centre des marqueurs alternatifs du graphique. |\n",
    "| `markevery` | Définis la fréquence d'affichage des marqueurs du graphique. |\n",
    "| `zorder` | Définis l'ordre d'affichage du graphique. |"
   ]
  },
  {
   "cell_type": "code",
   "execution_count": null,
   "id": "5198a892",
   "metadata": {
    "slideshow": {
     "slide_type": "slide"
    }
   },
   "outputs": [],
   "source": [
    "import matplotlib.pyplot as plt\n",
    "x = [1, 2, 3, 4, 5]\n",
    "y = [10, 20, 30, 40, 50]\n",
    "x2 = [1, 2, 3, 4]\n",
    "y2 = [15, 23, 28, 37]\n",
    "plt.plot(x2, y2, color='red', linewidth=2, marker='D', markerfacecolor='green', markersize=12, label=\"Test 2\")\n",
    "plt.plot(x, y, color='green', linestyle='dashed', linewidth=2, marker='o', markerfacecolor='blue', markersize=12, label=\"Test\")\n",
    "\n",
    "plt.xlabel('x - axis')\n",
    "plt.ylabel('y - axis')\n",
    "plt.legend()\n",
    "plt.title('My first graph!')\n",
    "plt.savefig(\"test_graph.png\")"
   ]
  },
  {
   "cell_type": "markdown",
   "id": "fe76ac81",
   "metadata": {
    "slideshow": {
     "slide_type": "slide"
    }
   },
   "source": [
    "## Les labels\n",
    "\n",
    "On peut ajouter des labels sur les axes du graphique en utilisant les fonctions `xlabel()` et `ylabel()` du module `pyplot`. La fonction `xlabel()` permet d'ajouter un label sur l'axe des abscisses. La fonction `ylabel()` permet d'ajouter un label sur l'axe des ordonnées. La syntaxe de ces fonctions est la suivante:\n",
    "\n",
    "```python\n",
    "plt.xlabel(label, fontdict=None, labelpad=None, **kwargs) # xlabel\n",
    "plt.ylabel(label, fontdict=None, labelpad=None, **kwargs) # ylabel\n",
    "```\n",
    "\n",
    "Les fonctions `xlabel()` et `ylabel()` prennent un paramètre `label` qui est une chaîne de caractères qui représente le label. Les fonctions `xlabel()` et `ylabel()` prennent aussi des paramètres optionnels qui permettent de personnaliser le label."
   ]
  },
  {
   "cell_type": "markdown",
   "id": "e7c48b2d",
   "metadata": {
    "slideshow": {
     "slide_type": "slide"
    }
   },
   "source": [
    "## Le titre\n",
    "\n",
    "On peut ajouter un titre au graphique en utilisant la fonction `title()` du module `pyplot`. La fonction `title()` permet d'ajouter un titre au graphique. La syntaxe de la fonction `title()` est la suivante:\n",
    "\n",
    "```python\n",
    "plt.title(label, fontdict=None, loc=None, pad=None, **kwargs)\n",
    "```\n",
    "\n",
    "La fonction `title()` prend un paramètre `label` qui est une chaîne de caractères qui représente le titre. La fonction `title()` prend aussi des paramètres optionnels qui permettent de personnaliser le titre."
   ]
  },
  {
   "cell_type": "markdown",
   "id": "0858d5ac",
   "metadata": {
    "slideshow": {
     "slide_type": "slide"
    }
   },
   "source": [
    "## Afficher le graphique\n",
    "\n",
    "Pour afficher le graphique, on utilise la fonction `show()` du module `pyplot`. La fonction `show()` permet d'afficher le graphique. La syntaxe de la fonction `show()` est la suivante:\n",
    "\n",
    "```python\n",
    "plt.show(block=None)\n",
    "```\n",
    "\n",
    "La fonction `show()` prend un paramètre optionnel `block` qui permet de spécifier si le programme doit être bloqué pendant l'affichage du graphique. Si `block` est `True`, le programme est bloqué pendant l'affichage du graphique. La fonction `show()` affiche une nouvelle fenêtre qui contient le graphique."
   ]
  },
  {
   "cell_type": "markdown",
   "id": "b3611dbb",
   "metadata": {
    "slideshow": {
     "slide_type": "slide"
    }
   },
   "source": [
    "## Sauvegarder le graphique\n",
    "\n",
    "On peut sauvegarder le graphique dans un fichier en utilisant la fonction `savefig()` du module `pyplot`. La fonction `savefig()` permet de sauvegarder le graphique dans un fichier. La syntaxe de la fonction `savefig()` est la suivante:\n",
    "\n",
    "```python\n",
    "plt.savefig(fname, dpi=None, facecolor='w', edgecolor='w', orientation='portrait', papertype=None, format=None, transparent=False, bbox_inches=None, pad_inches=0.1, metadata=None)\n",
    "```\n",
    "\n",
    "La fonction `savefig()` prend un paramètre `fname` qui est une chaîne de caractères qui représente le chemin du fichier. La fonction `savefig()` prend aussi des paramètres optionnels qui permettent de personnaliser le fichier."
   ]
  },
  {
   "cell_type": "markdown",
   "id": "9a0655db",
   "metadata": {
    "slideshow": {
     "slide_type": "slide"
    }
   },
   "source": [
    "## Les histogrammes\n",
    "\n",
    "Un histogramme est un graphique qui permet de représenter la distribution des données. Un histogramme est composé de plusieurs rectangles qui représentent la distribution des données. La largeur de chaque rectangle est proportionnelle à l'intervalle de la valeur qu'il représente. La hauteur de chaque rectangle est proportionnelle au nombre de valeurs qu'il représente.\n",
    "On peut créer un histogramme en utilisant la fonction `hist()` du module `pyplot`. La syntaxe de la fonction `hist()` est la suivante:\n",
    "\n",
    "```python\n",
    "plt.hist(x, bins=None, range=None, density=None, weights=None, cumulative=False, bottom=None, histtype='bar', align='mid', orientation='vertical', rwidth=None, log=False, color=None, label=None, stacked=False, normed=None, *, data=None, **kwargs)\n",
    "```\n",
    "\n",
    "La fonction `hist()` prend un paramètre `x` qui est une liste de valeurs qui représente les données. La fonction `hist()` prend aussi des paramètres optionnels qui permettent de personnaliser l'histogramme."
   ]
  },
  {
   "cell_type": "code",
   "execution_count": null,
   "id": "069c4af9",
   "metadata": {
    "slideshow": {
     "slide_type": "subslide"
    }
   },
   "outputs": [],
   "source": [
    "import matplotlib.pyplot as plt\n",
    "import numpy as np\n",
    "\n",
    "rng = np.random.default_rng(seed=42)\n",
    "\n",
    "N_points = 100000\n",
    "n_bins = 20\n",
    "\n",
    "# Generate two normal distributions\n",
    "dist1 = rng.standard_normal(N_points)\n",
    "\n",
    "#fig, axs = plt.subplots(1, 2, sharey=True, tight_layout=True)\n",
    "\n",
    "# We can set the number of bins with the *bins* keyword argument.\n",
    "plt.hist(dist1, bins=n_bins)\n",
    "plt.show()"
   ]
  },
  {
   "cell_type": "markdown",
   "id": "67eedd73",
   "metadata": {
    "slideshow": {
     "slide_type": "subslide"
    }
   },
   "source": [
    "## Les diagrammes de dispersion\n",
    "\n",
    "Un diagramme de dispersion est un graphique qui permet de représenter la relation entre deux variables. Un diagramme de dispersion est composé de points qui représentent les valeurs des deux variables. On peut créer un diagramme de dispersion en utilisant la fonction `scatter()` du module `pyplot`. La syntaxe de la fonction `scatter()` est la suivante:\n",
    "\n",
    "```python\n",
    "plt.scatter(x, y, s=None, c=None, marker=None, cmap=None, norm=None, vmin=None, vmax=None, alpha=None, linewidths=None, verts=None, edgecolors=None, *, plotnonfinite=False, data=None, **kwargs)\n",
    "```\n",
    "\n",
    "La fonction `scatter()` prend deux paramètres `x` et `y` qui sont des listes de valeurs qui représentent les données. La fonction `scatter()` prend aussi des paramètres optionnels qui permettent de personnaliser le diagramme de dispersion."
   ]
  },
  {
   "cell_type": "code",
   "execution_count": null,
   "id": "47553900",
   "metadata": {
    "slideshow": {
     "slide_type": "slide"
    }
   },
   "outputs": [],
   "source": [
    "x = [3, 4, 3, 4, 5]\n",
    "y = [28, 37, 30, 40, 50]\n",
    "\n",
    "x2 = [1, 2, 1, 2]\n",
    "y2 = [15, 23, 1, 2]\n",
    "\n",
    "plt.scatter(x, y)\n",
    "plt.scatter(x2, y2)\n",
    "plt.scatter(3, 15, color=\"g\")"
   ]
  },
  {
   "cell_type": "code",
   "execution_count": null,
   "id": "c1819b51",
   "metadata": {
    "slideshow": {
     "slide_type": "subslide"
    }
   },
   "outputs": [],
   "source": [
    "import pandas as pd\n",
    "import matplotlib.pyplot as plt\n",
    "\n",
    "data = pd.read_csv(\"data/swiss_all.csv\")\n",
    "\n",
    "plt.scatter(data[data[\"year\"]==2000]['X'],data[data[\"year\"]==2000]['Y'],s=1,c=data[data[\"year\"]==2000]['Z'],vmax=1000)\n",
    "plt.xlabel('Latitude')\n",
    "plt.ylabel('Longitude')\n",
    "plt.title('Switzerland density in 2000')"
   ]
  },
  {
   "cell_type": "markdown",
   "id": "ec5307fc",
   "metadata": {
    "slideshow": {
     "slide_type": "subslide"
    }
   },
   "source": [
    "Ici, on a créé un diagramme de dispersion qui représente la densité de population en suisse"
   ]
  },
  {
   "cell_type": "markdown",
   "id": "b28dba21",
   "metadata": {
    "slideshow": {
     "slide_type": "subslide"
    }
   },
   "source": [
    "## Les barres\n",
    "\n",
    "Un graphique en barres est un graphique qui permet de représenter des données sous forme de barres. Un graphique en barres est composé de plusieurs barres qui représentent les données. La hauteur de chaque barre est proportionnelle à la valeur qu'elle représente. On peut créer un graphique en barres en utilisant la fonction `bar()` du module `pyplot`. La syntaxe de la fonction `bar()` est la suivante:\n",
    "\n",
    "```python\n",
    "plt.bar(x, height, width=0.8, bottom=None, *, align='center', data=None, **kwargs)\n",
    "```\n",
    "\n",
    "La fonction `bar()` prend deux paramètres `x` et `height` qui sont des listes de valeurs qui représentent les données. La fonction `bar()` prend aussi des paramètres optionnels qui permettent de personnaliser le graphique en barres."
   ]
  },
  {
   "cell_type": "code",
   "execution_count": null,
   "id": "6326adb4",
   "metadata": {
    "slideshow": {
     "slide_type": "subslide"
    }
   },
   "outputs": [],
   "source": [
    "import matplotlib.pyplot as plt\n",
    "\n",
    "x = ['one', 'two', 'three', 'four', 'five']\n",
    "y = [10, 20, 30, 40, 5]\n",
    "\n",
    "plt.bar(x, y)\n",
    "\n",
    "plt.show()"
   ]
  },
  {
   "cell_type": "markdown",
   "id": "90ebd47e",
   "metadata": {
    "slideshow": {
     "slide_type": "subslide"
    }
   },
   "source": [
    "Ici, on a créé un graphique en barres qui représente les valeurs de `x` en fonction des valeurs de `y`."
   ]
  },
  {
   "cell_type": "markdown",
   "id": "0fbccb5f",
   "metadata": {
    "slideshow": {
     "slide_type": "subslide"
    }
   },
   "source": [
    "## Les diagrammes circulaires\n",
    "\n",
    "Un diagramme circulaire est un graphique qui permet de représenter des données sous forme de secteurs. Un diagramme circulaire est composé de plusieurs secteurs qui représentent les données. La taille de chaque secteur est proportionnelle à la valeur qu'il représente. On peut créer un diagramme circulaire en utilisant la fonction `pie()` du module `pyplot`. La syntaxe de la fonction `pie()` est la suivante:\n",
    "\n",
    "```python\n",
    "plt.pie(x, explode=None, labels=None, colors=None, autopct=None, pctdistance=0.6, shadow=False, labeldistance=1.1, startangle=None, radius=None, counterclock=True, wedgeprops=None, textprops=None, center=(0, 0), frame=False, rotatelabels=False, *, data=None)\n",
    "```\n",
    "\n",
    "La fonction `pie()` prend un paramètre `x` qui est une liste de valeurs qui représentent les données. La fonction `pie()` prend aussi des paramètres optionnels qui permettent de personnaliser le diagramme circulaire."
   ]
  },
  {
   "cell_type": "code",
   "execution_count": null,
   "id": "80d35c1f",
   "metadata": {
    "slideshow": {
     "slide_type": "subslide"
    }
   },
   "outputs": [],
   "source": [
    "import matplotlib.pyplot as plt\n",
    "\n",
    "x = [10, 20, 30, 40, 50]\n",
    "labels = ['A', 'B', 'C', 'D', 'E']\n",
    "\n",
    "plt.pie(x, labels=labels)\n",
    "plt.show()"
   ]
  },
  {
   "cell_type": "markdown",
   "id": "36be3699",
   "metadata": {
    "slideshow": {
     "slide_type": "subslide"
    }
   },
   "source": [
    "Ici, on a créé un diagramme circulaire qui représente les valeurs de `x`."
   ]
  },
  {
   "cell_type": "markdown",
   "id": "f418bd59",
   "metadata": {
    "slideshow": {
     "slide_type": "slide"
    }
   },
   "source": [
    "## Les sous-graphiques\n",
    "\n",
    "On peut créer plusieurs graphiques dans une même fenêtre en utilisant la fonction `subplot()` du module `pyplot`. La fonction `subplot()` permet de créer plusieurs graphiques dans une même fenêtre. La syntaxe de la fonction `subplot()` est la suivante:\n",
    "\n",
    "```python\n",
    "plt.subplot(nrows, ncols, index, **kwargs)\n",
    "```\n",
    "\n",
    "La fonction `subplot()` prend 3 paramètres obligatoires:\n",
    "\n",
    "- `nrows`: le nombre de lignes de la fenêtre\n",
    "- `ncols`: le nombre de colonnes de la fenêtre\n",
    "- `index`: l'index du graphique\n",
    "\n",
    "La fonction `subplot()` prend aussi des paramètres optionnels qui permettent de personnaliser le graphique."
   ]
  },
  {
   "cell_type": "code",
   "execution_count": null,
   "id": "317b8ce5",
   "metadata": {
    "slideshow": {
     "slide_type": "slide"
    }
   },
   "outputs": [],
   "source": [
    "import matplotlib.pyplot as plt\n",
    "\n",
    "x = [1, 2, 3, 4, 5]\n",
    "y = [10, 20, 30, 40, 50]\n",
    "\n",
    "plt.subplot(1, 2, 2)\n",
    "plt.plot(x, y)\n",
    "\n",
    "plt.subplot(1, 2, 1)\n",
    "plt.bar(x, y)\n",
    "\n",
    "plt.show()"
   ]
  },
  {
   "cell_type": "markdown",
   "id": "517a07cb",
   "metadata": {
    "slideshow": {
     "slide_type": "fragment"
    }
   },
   "source": [
    "Ici, on a créé deux graphiques dans une même fenêtre. Le premier graphique représente les valeurs de `x` en fonction des valeurs de `y`. Le deuxième graphique représente les valeurs de `x` en fonction des valeurs de `y`."
   ]
  },
  {
   "cell_type": "markdown",
   "id": "b04b1147",
   "metadata": {
    "slideshow": {
     "slide_type": "slide"
    }
   },
   "source": [
    "## Les styles\n",
    "\n",
    "Matplotlib permet de personnaliser les graphiques en utilisant des styles. Un style est un ensemble de propriétés qui permet de personnaliser les graphiques. On peut utiliser un style en utilisant la fonction `style.use()` du module `pyplot`. La fonction `style.use()` permet d'utiliser un style. La syntaxe de la fonction `style.use()` est la suivante:\n",
    "\n",
    "```python\n",
    "plt.style.use(style)\n",
    "```\n",
    "\n",
    "La fonction `style.use()` prend un paramètre `style` qui est une chaîne de caractères qui représente le nom du style."
   ]
  },
  {
   "cell_type": "code",
   "execution_count": null,
   "id": "83645246",
   "metadata": {
    "slideshow": {
     "slide_type": "slide"
    }
   },
   "outputs": [],
   "source": [
    "import matplotlib.pyplot as plt\n",
    "\n",
    "plt.style.use('default')\n",
    "\n",
    "x = [1, 2, 3, 4, 5]\n",
    "y = [10, 20, 30, 40, 50]\n",
    "\n",
    "plt.plot(x, y)\n",
    "plt.show()"
   ]
  },
  {
   "cell_type": "markdown",
   "id": "253a358d",
   "metadata": {
    "slideshow": {
     "slide_type": "slide"
    }
   },
   "source": [
    "Ici, on a créé un graphique qui représente les valeurs de `x` en fonction des valeurs de `y`. Le style utilisé est `ggplot`."
   ]
  },
  {
   "cell_type": "markdown",
   "id": "f815777a",
   "metadata": {
    "slideshow": {
     "slide_type": "slide"
    }
   },
   "source": [
    "#### Differents styles\n",
    "\n",
    "- `default` : le style par défaut\n",
    "- `classic` : le style classique\n",
    "- `ggplot` : le style ggplot\n",
    "- `seaborn` : le style seaborn\n",
    "- `fivethirtyeight` : le style fivethirtyeight\n",
    "- `dark_background` : le style dark_background\n",
    "- `bmh` : le style bmh\n",
    "- `grayscale` : le style grayscale"
   ]
  },
  {
   "cell_type": "markdown",
   "id": "8858bf41",
   "metadata": {
    "slideshow": {
     "slide_type": "slide"
    }
   },
   "source": [
    "### Exemples\n",
    "\n",
    "vous trouverez plus d'exemples [ici](https://matplotlib.org/stable/gallery/index.html)"
   ]
  },
  {
   "cell_type": "markdown",
   "id": "493cc034",
   "metadata": {
    "slideshow": {
     "slide_type": "slide"
    }
   },
   "source": [
    "## Bonus - linear regression\n",
    "\n",
    "La régression linéaire est une technique qui permet de trouver la relation entre deux variables. La régression linéaire est utilisée pour prédire la valeur d'une variable en fonction de la valeur d'une autre variable. On peut créer une régression linéaire en utilisant la fonction `plot()` du module `pyplot`."
   ]
  },
  {
   "cell_type": "code",
   "execution_count": null,
   "id": "88fac846",
   "metadata": {
    "slideshow": {
     "slide_type": "slide"
    }
   },
   "outputs": [],
   "source": [
    "import matplotlib.pyplot as plt\n",
    "import numpy as np\n",
    "\n",
    "# hours of study\n",
    "x = np.array([1, 2, 3, 4, 5, 6, 7, 8, 9])\n",
    "# scores\n",
    "y = np.array([60, 50, 70, 80, 90, 100, 90, 95, 100])\n",
    "\n",
    "# linear regression\n",
    "m, b = np.polyfit(x, y, 1)\n",
    "# plot the points\n",
    "plt.scatter(x, y)\n",
    "# plot the linear regression line\n",
    "plt.plot(x, m*x + b, \"r\")\n",
    "\n",
    "# show the plot\n",
    "plt.show()"
   ]
  },
  {
   "cell_type": "markdown",
   "id": "4e33dc01",
   "metadata": {
    "slideshow": {
     "slide_type": "slide"
    }
   },
   "source": [
    "# Matplotlib - 3D\n",
    "\n",
    "Matplotlib permet de créer des graphiques en 3D. \n",
    "\n",
    "[Exemples](https://matplotlib.org/stable/gallery/mplot3d/index.html)"
   ]
  },
  {
   "cell_type": "code",
   "execution_count": null,
   "id": "494c43da",
   "metadata": {
    "slideshow": {
     "slide_type": "slide"
    }
   },
   "outputs": [],
   "source": [
    "import numpy as np\n",
    "import matplotlib.pyplot as plt\n",
    "\n",
    "\n",
    "ax = plt.subplot(projection='3d')\n",
    "\n",
    "# Prepare arrays x, y, z\n",
    "theta = np.linspace(-4 * np.pi, 4 * np.pi, 100)\n",
    "z = np.linspace(-2, 2, 100)\n",
    "r = z**2 + 1\n",
    "x = r * np.sin(theta)\n",
    "y = r * np.cos(theta)\n",
    "\n",
    "ax.plot(x, y, z, label='parametric curve')\n",
    "ax.legend()\n",
    "\n",
    "plt.show()"
   ]
  },
  {
   "cell_type": "markdown",
   "id": "5247042c",
   "metadata": {
    "slideshow": {
     "slide_type": "slide"
    }
   },
   "source": [
    "Ici, on a créé un graphique en 3D qui représente les valeurs de `x` en fonction des valeurs de `y` et des valeurs de `z`. Le paramètre `format_string` est `'ro'` qui spécifie que le graphique doit être de couleur rouge (`r`) et que les points doivent être représentés par des cercles (`o`)."
   ]
  },
  {
   "cell_type": "markdown",
   "id": "72a31ad0",
   "metadata": {
    "slideshow": {
     "slide_type": "slide"
    }
   },
   "source": [
    "## Point cloud\n",
    "\n",
    "Un point cloud est un graphique en 3D qui permet de représenter des données sous forme de points. Un point cloud est composé de plusieurs points qui représentent les données. On peut créer un point cloud en utilisant la fonction `scatter()` du module `pyplot`. La syntaxe de la fonction `scatter()` est la suivante:\n",
    "\n",
    "```python\n",
    "plt.scatter(x, y, z, s=None, c=None, marker=None, cmap=None, norm=None, vmin=None, vmax=None, alpha=None, linewidths=None, verts=None, edgecolors=None, *, plotnonfinite=False, data=None, **kwargs)\n",
    "```\n",
    "\n",
    "La fonction `scatter()` prend 3 paramètres `x`, `y` et `z` qui sont des listes de valeurs qui représentent les données. La fonction `scatter()` prend aussi des paramètres optionnels qui permettent de personnaliser le point cloud."
   ]
  },
  {
   "cell_type": "code",
   "execution_count": null,
   "id": "67cb6729",
   "metadata": {
    "slideshow": {
     "slide_type": "slide"
    }
   },
   "outputs": [],
   "source": [
    "import matplotlib.pyplot as plt\n",
    "import numpy as np\n",
    "\n",
    "# Fixing random state for reproducibility\n",
    "np.random.seed(19680801)\n",
    "\n",
    "\n",
    "def randrange(n, vmin, vmax):\n",
    "    \"\"\"\n",
    "    Helper function to make an array of random numbers having shape (n, )\n",
    "    with each number distributed Uniform(vmin, vmax).\n",
    "    \"\"\"\n",
    "    return (vmax - vmin)*np.random.rand(n) + vmin\n",
    "\n",
    "fig = plt.figure()\n",
    "ax = fig.add_subplot(projection='3d')\n",
    "\n",
    "n = 100\n",
    "\n",
    "# For each set of style and range settings, plot n random points in the box\n",
    "# defined by x in [23, 32], y in [0, 100], z in [zlow, zhigh].\n",
    "for m, zlow, zhigh in [('o', -50, -25), ('^', -30, -5)]:\n",
    "    xs = randrange(n, 23, 32)\n",
    "    ys = randrange(n, 0, 100)\n",
    "    zs = randrange(n, zlow, zhigh)\n",
    "    ax.scatter(xs, ys, zs, marker=m)\n",
    "\n",
    "ax.set_xlabel('X Label')\n",
    "ax.set_ylabel('Y Label')\n",
    "ax.set_zlabel('Z Label')\n",
    "\n",
    "plt.show()"
   ]
  },
  {
   "cell_type": "markdown",
   "id": "d2bba7ce",
   "metadata": {
    "slideshow": {
     "slide_type": "slide"
    }
   },
   "source": [
    "Ici, on a créé un point cloud qui représente les valeurs de `x` en fonction des valeurs de `y` et des valeurs de `z`."
   ]
  },
  {
   "cell_type": "code",
   "execution_count": null,
   "id": "9e009e9d",
   "metadata": {
    "slideshow": {
     "slide_type": "slide"
    }
   },
   "outputs": [],
   "source": [
    "from mpl_toolkits.mplot3d import axes3d\n",
    "import matplotlib.pyplot as plt\n",
    "from matplotlib import cm\n",
    "\n",
    "ax = plt.figure().add_subplot(projection='3d')\n",
    "X, Y, Z = axes3d.get_test_data(0.05)\n",
    "ax.contourf(X, Y, Z, cmap=cm.coolwarm)\n",
    "\n",
    "plt.show()\n",
    "plt.show()"
   ]
  },
  {
   "cell_type": "code",
   "execution_count": null,
   "id": "e131708c",
   "metadata": {
    "slideshow": {
     "slide_type": "slide"
    }
   },
   "outputs": [],
   "source": [
    "import numpy as np\n",
    "import matplotlib.pyplot as plt\n",
    "from mpl_toolkits.mplot3d import Axes3D\n",
    "\n",
    "# Generate data\n",
    "x = np.linspace(-5, 5, 100)\n",
    "y = np.linspace(-5, 5, 100)\n",
    "X, Y = np.meshgrid(x, y)\n",
    "Z = np.sin(np.sqrt(X**2 + Y**2))\n",
    "\n",
    "# Create figure and axes\n",
    "fig = plt.figure()\n",
    "ax = fig.add_subplot(111, projection='3d')\n",
    "\n",
    "# Plot the surface\n",
    "ax.plot_surface(X, Y, Z, cmap='viridis')\n",
    "\n",
    "# Set labels and title\n",
    "ax.set_xlabel('X')\n",
    "ax.set_ylabel('Y')\n",
    "ax.set_zlabel('Z')\n",
    "ax.set_title('3D Plot')\n",
    "\n",
    "# Enable interactive navigation\n",
    "ax.mouse_init()\n",
    "\n",
    "# Show the plot\n",
    "plt.show()"
   ]
  },
  {
   "cell_type": "code",
   "execution_count": null,
   "id": "f795906f",
   "metadata": {},
   "outputs": [],
   "source": []
  }
 ],
 "metadata": {
  "celltoolbar": "Slideshow",
  "kernelspec": {
   "display_name": "Python 3 (ipykernel)",
   "language": "python",
   "name": "python3"
  },
  "language_info": {
   "codemirror_mode": {
    "name": "ipython",
    "version": 3
   },
   "file_extension": ".py",
   "mimetype": "text/x-python",
   "name": "python",
   "nbconvert_exporter": "python",
   "pygments_lexer": "ipython3",
   "version": "3.10.14"
  }
 },
 "nbformat": 4,
 "nbformat_minor": 5
}
